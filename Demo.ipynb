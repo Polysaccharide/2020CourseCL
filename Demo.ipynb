{
  "nbformat": 4,
  "nbformat_minor": 0,
  "metadata": {
    "colab": {
      "name": "CL_project_codes.ipynb",
      "provenance": [],
      "collapsed_sections": []
    },
    "kernelspec": {
      "name": "python3",
      "display_name": "Python 3"
    },
    "accelerator": "GPU"
  },
  "cells": [
    {
      "cell_type": "code",
      "metadata": {
        "id": "JwFwh9t9sB1f",
        "colab": {
          "base_uri": "https://localhost:8080/"
        },
        "outputId": "c78a80e9-f1e9-4893-ff64-546821622df6"
      },
      "source": [
        "from google.colab import drive\r\n",
        "drive.mount('/content/drive')"
      ],
      "execution_count": 1,
      "outputs": [
        {
          "output_type": "stream",
          "text": [
            "Mounted at /content/drive\n"
          ],
          "name": "stdout"
        }
      ]
    },
    {
      "cell_type": "code",
      "metadata": {
        "id": "V_89ZlQY3RGj"
      },
      "source": [
        "import os\n",
        "os.chdir ('/content/drive/MyDrive/ComLing/Codes/')"
      ],
      "execution_count": 2,
      "outputs": []
    },
    {
      "cell_type": "code",
      "metadata": {
        "id": "6HzCMz_t0kVl"
      },
      "source": [
        "from __future__ import print_function, division\r\n",
        "%matplotlib inline\r\n",
        "from matplotlib import pyplot as plt\r\n",
        "import json\r\n",
        "import random\r\n",
        "import numpy as np\r\n",
        "import debiaswe as dwe\r\n",
        "import debiaswe.we as we\r\n",
        "from debiaswe.debias import debias\r\n",
        "from scipy import stats\r\n",
        "from debiaswe.we import WordEmbedding\r\n",
        "from sklearn.metrics.pairwise import cosine_similarity\r\n",
        "from sklearn import svm\r\n",
        "from random import shuffle\r\n",
        "import random\r\n",
        "random.seed(10)\r\n",
        "import gzip\r\n",
        "# !gunzip /content/drive/MyDrive/ComLing/Codes/embeddings/GoogleNews-vectors-negative300.bin.gz"
      ],
      "execution_count": 23,
      "outputs": []
    },
    {
      "cell_type": "code",
      "metadata": {
        "colab": {
          "base_uri": "https://localhost:8080/"
        },
        "id": "y3yD5r6t3yFA",
        "outputId": "66b22e01-cbfa-43b9-8aae-5cdc6db59b8d"
      },
      "source": [
        "E = WordEmbedding('./embeddings/w2v_gnews_small.txt') # use this one for understanding the codes \r\n",
        "# E = WordEmbedding('./embeddings/GoogleNews-vectors-negative300.bin')"
      ],
      "execution_count": 4,
      "outputs": [
        {
          "output_type": "stream",
          "text": [
            "*** Reading data from ./embeddings/w2v_gnews_small.txt\n",
            "(26423, 300)\n",
            "26423 words of dimension 300 : in, for, that, is, ..., Jay, Leroy, Brad, Jermaine\n"
          ],
          "name": "stdout"
        }
      ]
    },
    {
      "cell_type": "code",
      "metadata": {
        "id": "RMh2SmKUYe1w"
      },
      "source": [
        "adjective_words =[]\r\n",
        "with open('./data/adj.txt') as fp:\r\n",
        "   line = fp.readline()\r\n",
        "   while line:\r\n",
        "     line = line.strip()\r\n",
        "     adjective_words.append(line)\r\n",
        "     line = fp.readline()\r\n",
        "\r\n",
        "adjective_in_words = []\r\n",
        "for word in adjective_words:\r\n",
        "  if word in E.words:\r\n",
        "    adjective_in_words.append(word)"
      ],
      "execution_count": 17,
      "outputs": []
    },
    {
      "cell_type": "markdown",
      "metadata": {
        "id": "ZnkGWfGmT2Lu"
      },
      "source": [
        "Human Agreement Analysis"
      ]
    },
    {
      "cell_type": "code",
      "metadata": {
        "colab": {
          "base_uri": "https://localhost:8080/"
        },
        "id": "fqjIP45WTzPX",
        "outputId": "f3771d89-665d-433a-a6b9-ab91d5ad5663"
      },
      "source": [
        "v_gender = E.diff('she', 'he')\r\n",
        "\r\n",
        "sp = sorted([(E.v(w).dot(v_gender), w) for w in adjective_in_words])\r\n",
        "sp_word = []\r\n",
        "sp_value= []\r\n",
        "n = 0\r\n",
        "\r\n",
        "while n<len(sp):\r\n",
        "    sp_word.append(sp[n][1])\r\n",
        "    sp_value.append(sp[n][0])\r\n",
        "    n=n+1\r\n",
        "\r\n",
        "human_relatedness = []\r\n",
        "word2vec_relatedness = []\r\n",
        "\r\n",
        "extreme = open(\"./data/human_extreme.txt\")\r\n",
        "for line in extreme.readlines():\r\n",
        "    word = line.split(\";\")[0]\r\n",
        "    h_r = line.split(\";\")[1]\r\n",
        "    if word in sp_word:\r\n",
        "      word2vec_relatedness.append(sp_value[sp_word.index(word)])\r\n",
        "      human_relatedness.append(abs(float(h_r)-10))\r\n",
        "\r\n",
        "print(stats.pearsonr(human_relatedness, word2vec_relatedness))"
      ],
      "execution_count": 12,
      "outputs": [
        {
          "output_type": "stream",
          "text": [
            "(0.8612737509582733, 6.549510111475629e-08)\n"
          ],
          "name": "stdout"
        }
      ]
    },
    {
      "cell_type": "markdown",
      "metadata": {
        "id": "8tVCha5QUxg5"
      },
      "source": [
        "Subset of adjectives Analysis"
      ]
    },
    {
      "cell_type": "code",
      "metadata": {
        "colab": {
          "base_uri": "https://localhost:8080/"
        },
        "id": "eILfzHxKU5iB",
        "outputId": "1d373c5a-74e8-466a-ae80-8d798959012b"
      },
      "source": [
        "def make_zeros(number):\r\n",
        "    return [0] * number\r\n",
        "\r\n",
        "def Average(lst):\r\n",
        "    return sum(lst) / len(lst)\r\n",
        "\r\n",
        "adjective_words =[]\r\n",
        "file = open(\"./data/phy_adj.txt\")\r\n",
        "for line in file.readlines():\r\n",
        "    word = line.split(\",\")[0]\r\n",
        "    adjective_words.append(word)\r\n",
        "adjective_in_words = []\r\n",
        "for word in adjective_words:\r\n",
        "  if word in E.words:\r\n",
        "    adjective_in_words.append(word)\r\n",
        "\r\n",
        "v_gender = E.diff('she', 'he')\r\n",
        "sp = sorted([(E.v(w).dot(v_gender), w) for w in adjective_in_words])\r\n",
        "\r\n",
        "value =[]\r\n",
        "n = 0\r\n",
        "\r\n",
        "while n<len(sp):\r\n",
        "    sp_value = (sp[n][0])\r\n",
        "    value.append(abs(sp_value))\r\n",
        "    n=n+1\r\n",
        "\r\n",
        "list = make_zeros(len(value))\r\n",
        "print(Average(value))\r\n",
        "print(stats.ttest_ind(list,value))"
      ],
      "execution_count": 14,
      "outputs": [
        {
          "output_type": "stream",
          "text": [
            "0.08812841349704699\n",
            "Ttest_indResult(statistic=-7.157208310444879, pvalue=8.669330849591236e-09)\n"
          ],
          "name": "stdout"
        }
      ]
    },
    {
      "cell_type": "markdown",
      "metadata": {
        "id": "fHegI4zzWOyy"
      },
      "source": [
        "Comparison Test "
      ]
    },
    {
      "cell_type": "code",
      "metadata": {
        "colab": {
          "base_uri": "https://localhost:8080/",
          "height": 390
        },
        "id": "cl1Uj8isWSSk",
        "outputId": "539940ae-92f4-462c-8b81-86cea9329647"
      },
      "source": [
        "E = WordEmbedding('./embeddings/w2v_gnews_small.txt')\r\n",
        "\r\n",
        "adjective_words =[]\r\n",
        "with open('./data/adj.txt') as fp:\r\n",
        "   line = fp.readline()\r\n",
        "   while line:\r\n",
        "     line = line.strip()\r\n",
        "     adjective_words.append(line)\r\n",
        "     line = fp.readline()\r\n",
        "\r\n",
        "adjective_in_words = []\r\n",
        "for word in adjective_words:\r\n",
        "  if word in E.words:\r\n",
        "    adjective_in_words.append(word)\r\n",
        "\r\n",
        "v_gender = E.diff('she', 'he')\r\n",
        "\r\n",
        "\r\n",
        "sp = sorted([(E.v(w).dot(v_gender), w) for w in adjective_in_words])\r\n",
        "sp_he = sp[0:20]\r\n",
        "sp_she = sp[-20:]\r\n",
        "\r\n",
        "\r\n",
        "n = 0\r\n",
        "\r\n",
        "v_she = E.vecs[E.index['she']]\r\n",
        "v_she = v_she.reshape(1,-1)\r\n",
        "v_he = E.vecs[E.index['he']]\r\n",
        "v_he= v_he.reshape(1,-1)\r\n",
        "\r\n",
        "label_he=[]\r\n",
        "label_she=[]\r\n",
        "cos_sim_he_he = []\r\n",
        "cos_sim_she_he = []\r\n",
        "cos_sim_he_she= []\r\n",
        "cos_sim_she_she= []\r\n",
        "\r\n",
        "\r\n",
        "while n<len(sp_he):\r\n",
        "    word_he = sp_he[n][1]\r\n",
        "    label_he.append(word_he)\r\n",
        "    sp_vector_he = (E.vecs[E.index[word_he]])\r\n",
        "    sp_vector_he = sp_vector_he.reshape(1, -1)\r\n",
        "    cos_sim_he_he.append(cosine_similarity(v_he, sp_vector_he)[0])\r\n",
        "    cos_sim_she_he.append(cosine_similarity(v_she, sp_vector_he)[0])\r\n",
        "\r\n",
        "    word_she = sp_she[n][1]\r\n",
        "    label_she.append(word_she)\r\n",
        "    sp_vector_she = (E.vecs[E.index[word_she]])\r\n",
        "    sp_vector_she = sp_vector_she.reshape(1, -1)\r\n",
        "    cos_sim_he_she.append(cosine_similarity(v_he, sp_vector_she)[0])\r\n",
        "    cos_sim_she_she.append(cosine_similarity(v_she, sp_vector_she)[0])\r\n",
        "    n=n+1\r\n",
        "\r\n",
        "with open('./data/definitional_pairs.json', \"r\") as f:\r\n",
        "    defs = json.load(f)\r\n",
        "with open('./data/equalize_pairs.json', \"r\") as f:\r\n",
        "    equalize_pairs = json.load(f)\r\n",
        "with open('./data/gender_specific_seed.json', \"r\") as f:\r\n",
        "    gender_specific_words = json.load(f)\r\n",
        "\r\n",
        "debias(E, gender_specific_words, defs, equalize_pairs)\r\n",
        "\r\n",
        "sp_debiased = sorted([(E.v(w).dot(v_gender), w) for w in adjective_in_words])\r\n",
        "\r\n",
        "n = 0\r\n",
        "\r\n",
        "cos_sim_he_he_debiased = []\r\n",
        "cos_sim_she_he_debiased = []\r\n",
        "cos_sim_he_she_debiased= []\r\n",
        "cos_sim_she_she_debiased= []\r\n",
        "\r\n",
        "\r\n",
        "while n<len(sp_he):\r\n",
        "    word_he = sp_he[n][1]\r\n",
        "    sp_vector_he = (E.vecs[E.index[word_he]])\r\n",
        "    sp_vector_he = sp_vector_he.reshape(1, -1)\r\n",
        "    cos_sim_he_he_debiased.append(cosine_similarity(v_he, sp_vector_he)[0])\r\n",
        "    cos_sim_she_he_debiased.append(cosine_similarity(v_she, sp_vector_he)[0])\r\n",
        "\r\n",
        "    word_she = sp_she[n][1]\r\n",
        "    sp_vector_she = (E.vecs[E.index[word_she]])\r\n",
        "    sp_vector_she = sp_vector_she.reshape(1, -1)\r\n",
        "    cos_sim_he_she_debiased.append(cosine_similarity(v_he, sp_vector_she)[0])\r\n",
        "    cos_sim_she_she_debiased.append(cosine_similarity(v_she, sp_vector_she)[0])\r\n",
        "    n=n+1\r\n",
        "\r\n",
        "fig = plt.figure(figsize=(10,3.5))\r\n",
        "ax1 = fig.add_subplot(121)\r\n",
        "ax1.scatter(cos_sim_he_he,cos_sim_she_he,color = 'blue')\r\n",
        "for i, word in enumerate(label_he):\r\n",
        "            ax1.annotate(word, alpha=0.5, xy=(cos_sim_he_he[i],cos_sim_she_he[i]))\r\n",
        "ax1.scatter(cos_sim_he_she,cos_sim_she_she,color = 'red')\r\n",
        "for i, word in enumerate(label_she):\r\n",
        "            ax1.annotate(word, alpha=0.5, xy=(cos_sim_he_she[i],cos_sim_she_she[i]))\r\n",
        "ax1.set_xlabel('he')\r\n",
        "ax1.set_ylabel('she')\r\n",
        "ax1.set_title(\"Cosine Similarities before Debiasing\")\r\n",
        "\r\n",
        "ax2 = fig.add_subplot(122)\r\n",
        "ax2.scatter(cos_sim_he_he_debiased,cos_sim_she_he_debiased,color = 'blue')\r\n",
        "for i, word in enumerate(label_he):\r\n",
        "            ax2.annotate(word, alpha=0.5, xy=(cos_sim_he_he_debiased[i],cos_sim_she_he_debiased[i]))\r\n",
        "ax2.scatter(cos_sim_he_she_debiased,cos_sim_she_she_debiased,color = 'red')\r\n",
        "for i, word in enumerate(label_she):\r\n",
        "            ax2.annotate(word, alpha=0.5, xy=(cos_sim_he_she_debiased[i],cos_sim_she_she_debiased[i]))\r\n",
        "ax2.set_xlabel('he')\r\n",
        "ax2.set_ylabel('she')\r\n",
        "ax2.set_title(\"Cosine Similarities after Debiasing\")\r\n",
        "plt.show()"
      ],
      "execution_count": 21,
      "outputs": [
        {
          "output_type": "stream",
          "text": [
            "*** Reading data from ./embeddings/w2v_gnews_small.txt\n",
            "(26423, 300)\n",
            "26423 words of dimension 300 : in, for, that, is, ..., Jay, Leroy, Brad, Jermaine\n",
            "26423 words of dimension 300 : in, for, that, is, ..., Jay, Leroy, Brad, Jermaine\n",
            "{('COUNCILMAN', 'COUNCILWOMAN'), ('twin_brother', 'twin_sister'), ('FELLA', 'GRANNY'), ('males', 'females'), ('fella', 'granny'), ('Councilman', 'Councilwoman'), ('boys', 'girls'), ('he', 'she'), ('gelding', 'mare'), ('Brother', 'Sister'), ('CONGRESSMAN', 'CONGRESSWOMAN'), ('FATHERHOOD', 'MOTHERHOOD'), ('Gentlemen', 'Ladies'), ('kings', 'queens'), ('Fatherhood', 'Motherhood'), ('GRANDPA', 'GRANDMA'), ('UNCLE', 'AUNT'), ('Testosterone', 'Estrogen'), ('Grandsons', 'Granddaughters'), ('GELDING', 'MARE'), ('MAN', 'WOMAN'), ('BOYS', 'GIRLS'), ('BROTHERS', 'SISTERS'), ('Businessman', 'Businesswoman'), ('Fraternity', 'Sorority'), ('Nephew', 'Niece'), ('Men', 'Women'), ('King', 'Queen'), ('Man', 'Woman'), ('fraternity', 'sorority'), ('Kings', 'Queens'), ('KING', 'QUEEN'), ('CATHOLIC_PRIEST', 'NUN'), ('Boy', 'Girl'), ('ex_girlfriend', 'ex_boyfriend'), ('dad', 'mom'), ('grandsons', 'granddaughters'), ('catholic_priest', 'nun'), ('Father', 'Mother'), ('nephew', 'niece'), ('Twin_Brother', 'Twin_Sister'), ('Brothers', 'Sisters'), ('monastery', 'convent'), ('gentlemen', 'ladies'), ('MALE', 'FEMALE'), ('councilman', 'councilwoman'), ('grandson', 'granddaughter'), ('HE', 'SHE'), ('CHAIRMAN', 'CHAIRWOMAN'), ('Gentleman', 'Lady'), ('Spokesman', 'Spokeswoman'), ('king', 'queen'), ('BUSINESSMAN', 'BUSINESSWOMAN'), ('Fathers', 'Mothers'), ('Males', 'Females'), ('SONS', 'DAUGHTERS'), ('Prince', 'Princess'), ('His', 'Her'), ('GRANDSON', 'GRANDDAUGHTER'), ('Boys', 'Girls'), ('DUDES', 'GALS'), ('Grandson', 'Granddaughter'), ('SPOKESMAN', 'SPOKESWOMAN'), ('GENTLEMEN', 'LADIES'), ('father', 'mother'), ('Son', 'Daughter'), ('Gelding', 'Mare'), ('brothers', 'sisters'), ('fatherhood', 'motherhood'), ('businessman', 'businesswoman'), ('Himself', 'Herself'), ('MONASTERY', 'CONVENT'), ('DAD', 'MOM'), ('DADS', 'MOMS'), ('his', 'her'), ('Wives', 'Husbands'), ('FRATERNITY', 'SORORITY'), ('chairman', 'chairwoman'), ('grandpa', 'grandma'), ('son', 'daughter'), ('Male', 'Female'), ('dads', 'moms'), ('colt', 'filly'), ('Congressman', 'Congresswoman'), ('Catholic_Priest', 'Nun'), ('men', 'women'), ('testosterone', 'estrogen'), ('KINGS', 'QUEENS'), ('Ex_Girlfriend', 'Ex_Boyfriend'), ('FATHERS', 'MOTHERS'), ('Grandpa', 'Grandma'), ('Sons', 'Daughters'), ('SCHOOLBOY', 'SCHOOLGIRL'), ('Fella', 'Granny'), ('WIVES', 'HUSBANDS'), ('prince', 'princess'), ('sons', 'daughters'), ('SON', 'DAUGHTER'), ('Dad', 'Mom'), ('Monastery', 'Convent'), ('MEN', 'WOMEN'), ('HIMSELF', 'HERSELF'), ('boy', 'girl'), ('congressman', 'congresswoman'), ('Chairman', 'Chairwoman'), ('GRANDSONS', 'GRANDDAUGHTERS'), ('BOY', 'GIRL'), ('PROSTATE_CANCER', 'OVARIAN_CANCER'), ('HIS', 'HER'), ('TESTOSTERONE', 'ESTROGEN'), ('wives', 'husbands'), ('grandfather', 'grandmother'), ('dudes', 'gals'), ('GRANDFATHER', 'GRANDMOTHER'), ('man', 'woman'), ('NEPHEW', 'NIECE'), ('COLT', 'FILLY'), ('Uncle', 'Aunt'), ('himself', 'herself'), ('male', 'female'), ('TWIN_BROTHER', 'TWIN_SISTER'), ('PRINCE', 'PRINCESS'), ('GENTLEMAN', 'LADY'), ('Dads', 'Moms'), ('gentleman', 'lady'), ('MALES', 'FEMALES'), ('FATHER', 'MOTHER'), ('BROTHER', 'SISTER'), ('He', 'She'), ('Dudes', 'Gals'), ('Grandfather', 'Grandmother'), ('Prostate_Cancer', 'Ovarian_Cancer'), ('prostate_cancer', 'ovarian_cancer'), ('uncle', 'aunt'), ('schoolboy', 'schoolgirl'), ('spokesman', 'spokeswoman'), ('brother', 'sister'), ('fathers', 'mothers'), ('Colt', 'Filly'), ('Schoolboy', 'Schoolgirl'), ('EX_GIRLFRIEND', 'EX_BOYFRIEND')}\n",
            "26423 words of dimension 300 : in, for, that, is, ..., Jay, Leroy, Brad, Jermaine\n"
          ],
          "name": "stdout"
        },
        {
          "output_type": "display_data",
          "data": {
            "image/png": "[encoded data removed]",
            "text/plain": [
              "<Figure size 720x252 with 2 Axes>"
            ]
          },
          "metadata": {
            "tags": [],
            "needs_background": "light"
          }
        }
      ]
    },
    {
      "cell_type": "markdown",
      "metadata": {
        "id": "nOMWQdc6W6qP"
      },
      "source": [
        "Neighbor clustering"
      ]
    },
    {
      "cell_type": "code",
      "metadata": {
        "colab": {
          "base_uri": "https://localhost:8080/",
          "height": 527
        },
        "id": "LiRVW3WnXMcW",
        "outputId": "0f3a74cb-4715-446f-fa6d-9d05e2494d82"
      },
      "source": [
        "E = WordEmbedding('./embeddings/w2v_gnews_small.txt')\r\n",
        "\r\n",
        "adjective_words =[]\r\n",
        "\r\n",
        "adjective_words =[]\r\n",
        "file = open(\"./data/phy_adj_subset.txt\")\r\n",
        "for line in file.readlines():\r\n",
        "    word = line.split(\",\")[0]\r\n",
        "    adjective_words.append(word)\r\n",
        "\r\n",
        "adjective_in_words = []\r\n",
        "for word in adjective_words:\r\n",
        "  if word in E.words:\r\n",
        "    adjective_in_words.append(word)\r\n",
        "v_gender = E.diff('she', 'he')\r\n",
        "\r\n",
        "sp = sorted([(E.v(w).dot(v_gender), w) for w in adjective_in_words])\r\n",
        "\r\n",
        "n = 0\r\n",
        "\r\n",
        "v_she = E.vecs[E.index['she']]\r\n",
        "v_she = v_she.reshape(1,-1)\r\n",
        "v_he = E.vecs[E.index['he']]\r\n",
        "v_he= v_he.reshape(1,-1)\r\n",
        "\r\n",
        "label_he=[]\r\n",
        "label_she=[]\r\n",
        "\r\n",
        "\r\n",
        "cos_sim_he_he = []\r\n",
        "cos_sim_she_he = []\r\n",
        "cos_sim_he_she= []\r\n",
        "cos_sim_she_she= []\r\n",
        "label_he=[]\r\n",
        "label_she=[]\r\n",
        "\r\n",
        "while n<len(sp):\r\n",
        "    if float(sp[n][0]) < 0:\r\n",
        "        word_he = sp[n][1]\r\n",
        "        print(word_he)\r\n",
        "        label_he.append(word_he)\r\n",
        "        sp_vector_he = (E.vecs[E.index[word_he]])\r\n",
        "        sp_vector_he = sp_vector_he.reshape(1, -1)\r\n",
        "        cos_sim_he_he.append(cosine_similarity(v_he, sp_vector_he)[0])\r\n",
        "        cos_sim_she_he.append(cosine_similarity(v_she, sp_vector_he)[0])\r\n",
        "    else:\r\n",
        "        word_she = sp[n][1]\r\n",
        "        print(word_she)\r\n",
        "        label_she.append(word_she)\r\n",
        "        sp_vector_she = (E.vecs[E.index[word_she]])\r\n",
        "        sp_vector_she = sp_vector_she.reshape(1, -1)\r\n",
        "        cos_sim_he_she.append(cosine_similarity(v_he, sp_vector_she)[0])\r\n",
        "        cos_sim_she_she.append(cosine_similarity(v_she, sp_vector_she)[0])\r\n",
        "    n=n+1\r\n",
        "\r\n",
        "with open('./data/definitional_pairs.json', \"r\") as f:\r\n",
        "    defs = json.load(f)\r\n",
        "with open('./data/equalize_pairs.json', \"r\") as f:\r\n",
        "    equalize_pairs = json.load(f)\r\n",
        "with open('./data/gender_specific_seed.json', \"r\") as f:\r\n",
        "    gender_specific_words = json.load(f)\r\n",
        "debias(E, gender_specific_words, defs, equalize_pairs)\r\n",
        "\r\n",
        "sp_debiased = sorted([(E.v(w).dot(v_gender), w) for w in adjective_in_words])\r\n",
        "\r\n",
        "n = 0\r\n",
        "\r\n",
        "cos_sim_he_he_debiased = []\r\n",
        "cos_sim_she_he_debiased = []\r\n",
        "cos_sim_he_she_debiased= []\r\n",
        "cos_sim_she_she_debiased= []\r\n",
        "\r\n",
        "\r\n",
        "while n<len(sp):\r\n",
        "    if float(sp[n][0]) < 0:\r\n",
        "        word_he = sp[n][1]\r\n",
        "        sp_vector_he = (E.vecs[E.index[word_he]])\r\n",
        "        sp_vector_he = sp_vector_he.reshape(1, -1)\r\n",
        "        cos_sim_he_he_debiased.append(cosine_similarity(v_he, sp_vector_he)[0])\r\n",
        "        cos_sim_she_he_debiased.append(cosine_similarity(v_she, sp_vector_he)[0])\r\n",
        "    else:\r\n",
        "        word_she = sp[n][1]\r\n",
        "        sp_vector_she = (E.vecs[E.index[word_she]])\r\n",
        "        sp_vector_she = sp_vector_she.reshape(1, -1)\r\n",
        "        cos_sim_he_she_debiased.append(cosine_similarity(v_he, sp_vector_she)[0])\r\n",
        "        cos_sim_she_she_debiased.append(cosine_similarity(v_she, sp_vector_she)[0])\r\n",
        "    n=n+1\r\n",
        "\r\n",
        "\r\n",
        "fig = plt.figure(figsize=(10,3.5))\r\n",
        "ax1 = fig.add_subplot(121)\r\n",
        "ax1.scatter(cos_sim_he_he,cos_sim_she_he,color = 'brown',label='he adj before debiasing')\r\n",
        "for i, word in enumerate(label_he):\r\n",
        "            ax1.annotate(word, alpha=0.5, xy=(cos_sim_he_he[i],cos_sim_she_he[i]))\r\n",
        "\r\n",
        "ax1.scatter(cos_sim_he_he_debiased,cos_sim_she_he_debiased,color = 'pink',label='he adj after debiasing')\r\n",
        "for i, word in enumerate(label_he):\r\n",
        "            ax1.annotate(word, alpha=0.5, xy=(cos_sim_he_he_debiased[i],cos_sim_she_he_debiased[i]))\r\n",
        "ax1.legend(loc=\"upper right\")\r\n",
        "ax1.set_xlabel('he')\r\n",
        "ax1.set_ylabel('she')\r\n",
        "\r\n",
        "ax2 = fig.add_subplot(122)\r\n",
        "ax2.scatter(cos_sim_he_she,cos_sim_she_she,color = 'olive',label='she adj before debiasing')\r\n",
        "for i, word in enumerate(label_she):\r\n",
        "            ax2.annotate(word, alpha=0.5, xy=(cos_sim_he_she[i],cos_sim_she_she[i]))\r\n",
        "ax2.scatter(cos_sim_he_she_debiased,cos_sim_she_she_debiased,color = 'green',label='she adj after debiasing')\r\n",
        "for i, word in enumerate(label_she):\r\n",
        "            ax2.annotate(word, alpha=0.5, xy=(cos_sim_he_she_debiased[i],cos_sim_she_she_debiased[i]))\r\n",
        "ax2.legend(loc=\"upper left\")\r\n",
        "ax2.set_xlabel('he')\r\n",
        "ax2.set_ylabel('she')\r\n",
        "plt.show()"
      ],
      "execution_count": 22,
      "outputs": [
        {
          "output_type": "stream",
          "text": [
            "*** Reading data from ./embeddings/w2v_gnews_small.txt\n",
            "(26423, 300)\n",
            "26423 words of dimension 300 : in, for, that, is, ..., Jay, Leroy, Brad, Jermaine\n",
            "muscular\n",
            "bald\n",
            "handsome\n",
            "strong\n",
            "athletic\n",
            "thin\n",
            "slim\n",
            "slender\n",
            "beautiful\n",
            "26423 words of dimension 300 : in, for, that, is, ..., Jay, Leroy, Brad, Jermaine\n",
            "{('COUNCILMAN', 'COUNCILWOMAN'), ('twin_brother', 'twin_sister'), ('FELLA', 'GRANNY'), ('males', 'females'), ('fella', 'granny'), ('Councilman', 'Councilwoman'), ('boys', 'girls'), ('he', 'she'), ('gelding', 'mare'), ('Brother', 'Sister'), ('CONGRESSMAN', 'CONGRESSWOMAN'), ('FATHERHOOD', 'MOTHERHOOD'), ('Gentlemen', 'Ladies'), ('kings', 'queens'), ('Fatherhood', 'Motherhood'), ('GRANDPA', 'GRANDMA'), ('UNCLE', 'AUNT'), ('Testosterone', 'Estrogen'), ('Grandsons', 'Granddaughters'), ('GELDING', 'MARE'), ('MAN', 'WOMAN'), ('BOYS', 'GIRLS'), ('BROTHERS', 'SISTERS'), ('Businessman', 'Businesswoman'), ('Fraternity', 'Sorority'), ('Nephew', 'Niece'), ('Men', 'Women'), ('King', 'Queen'), ('Man', 'Woman'), ('fraternity', 'sorority'), ('Kings', 'Queens'), ('KING', 'QUEEN'), ('CATHOLIC_PRIEST', 'NUN'), ('Boy', 'Girl'), ('ex_girlfriend', 'ex_boyfriend'), ('dad', 'mom'), ('grandsons', 'granddaughters'), ('catholic_priest', 'nun'), ('Father', 'Mother'), ('nephew', 'niece'), ('Twin_Brother', 'Twin_Sister'), ('Brothers', 'Sisters'), ('monastery', 'convent'), ('gentlemen', 'ladies'), ('MALE', 'FEMALE'), ('councilman', 'councilwoman'), ('grandson', 'granddaughter'), ('HE', 'SHE'), ('CHAIRMAN', 'CHAIRWOMAN'), ('Gentleman', 'Lady'), ('Spokesman', 'Spokeswoman'), ('king', 'queen'), ('BUSINESSMAN', 'BUSINESSWOMAN'), ('Fathers', 'Mothers'), ('Males', 'Females'), ('SONS', 'DAUGHTERS'), ('Prince', 'Princess'), ('His', 'Her'), ('GRANDSON', 'GRANDDAUGHTER'), ('Boys', 'Girls'), ('DUDES', 'GALS'), ('Grandson', 'Granddaughter'), ('SPOKESMAN', 'SPOKESWOMAN'), ('GENTLEMEN', 'LADIES'), ('father', 'mother'), ('Son', 'Daughter'), ('Gelding', 'Mare'), ('brothers', 'sisters'), ('fatherhood', 'motherhood'), ('businessman', 'businesswoman'), ('Himself', 'Herself'), ('MONASTERY', 'CONVENT'), ('DAD', 'MOM'), ('DADS', 'MOMS'), ('his', 'her'), ('Wives', 'Husbands'), ('FRATERNITY', 'SORORITY'), ('chairman', 'chairwoman'), ('grandpa', 'grandma'), ('son', 'daughter'), ('Male', 'Female'), ('dads', 'moms'), ('colt', 'filly'), ('Congressman', 'Congresswoman'), ('Catholic_Priest', 'Nun'), ('men', 'women'), ('testosterone', 'estrogen'), ('KINGS', 'QUEENS'), ('Ex_Girlfriend', 'Ex_Boyfriend'), ('FATHERS', 'MOTHERS'), ('Grandpa', 'Grandma'), ('Sons', 'Daughters'), ('SCHOOLBOY', 'SCHOOLGIRL'), ('Fella', 'Granny'), ('WIVES', 'HUSBANDS'), ('prince', 'princess'), ('sons', 'daughters'), ('SON', 'DAUGHTER'), ('Dad', 'Mom'), ('Monastery', 'Convent'), ('MEN', 'WOMEN'), ('HIMSELF', 'HERSELF'), ('boy', 'girl'), ('congressman', 'congresswoman'), ('Chairman', 'Chairwoman'), ('GRANDSONS', 'GRANDDAUGHTERS'), ('BOY', 'GIRL'), ('PROSTATE_CANCER', 'OVARIAN_CANCER'), ('HIS', 'HER'), ('TESTOSTERONE', 'ESTROGEN'), ('wives', 'husbands'), ('grandfather', 'grandmother'), ('dudes', 'gals'), ('GRANDFATHER', 'GRANDMOTHER'), ('man', 'woman'), ('NEPHEW', 'NIECE'), ('COLT', 'FILLY'), ('Uncle', 'Aunt'), ('himself', 'herself'), ('male', 'female'), ('TWIN_BROTHER', 'TWIN_SISTER'), ('PRINCE', 'PRINCESS'), ('GENTLEMAN', 'LADY'), ('Dads', 'Moms'), ('gentleman', 'lady'), ('MALES', 'FEMALES'), ('FATHER', 'MOTHER'), ('BROTHER', 'SISTER'), ('He', 'She'), ('Dudes', 'Gals'), ('Grandfather', 'Grandmother'), ('Prostate_Cancer', 'Ovarian_Cancer'), ('prostate_cancer', 'ovarian_cancer'), ('uncle', 'aunt'), ('schoolboy', 'schoolgirl'), ('spokesman', 'spokeswoman'), ('brother', 'sister'), ('fathers', 'mothers'), ('Colt', 'Filly'), ('Schoolboy', 'Schoolgirl'), ('EX_GIRLFRIEND', 'EX_BOYFRIEND')}\n",
            "26423 words of dimension 300 : in, for, that, is, ..., Jay, Leroy, Brad, Jermaine\n"
          ],
          "name": "stdout"
        },
        {
          "output_type": "display_data",
          "data": {
            "image/png": "[encoded data removed]",
            "text/plain": [
              "<Figure size 720x252 with 2 Axes>"
            ]
          },
          "metadata": {
            "tags": [],
            "needs_background": "light"
          }
        }
      ]
    },
    {
      "cell_type": "markdown",
      "metadata": {
        "id": "-HbnuCgmXZ_q"
      },
      "source": [
        "Classifer "
      ]
    },
    {
      "cell_type": "code",
      "metadata": {
        "colab": {
          "base_uri": "https://localhost:8080/"
        },
        "id": "is-HOIE-Xkkq",
        "outputId": "91da2e53-bd17-4f49-87f6-a6ff0826fa30"
      },
      "source": [
        "E = WordEmbedding('./embeddings/w2v_gnews_small.txt')\r\n",
        "adjective_words =[]\r\n",
        "with open(\"./data/adj.txt\") as fp:\r\n",
        "   line = fp.readline()\r\n",
        "   while line:\r\n",
        "     line = line.strip()\r\n",
        "     adjective_words.append(line)\r\n",
        "     line = fp.readline()\r\n",
        "\r\n",
        "adjective_in_words = []\r\n",
        "for word in adjective_words:\r\n",
        "  if word in E.words:\r\n",
        "    adjective_in_words.append(word)\r\n",
        "\r\n",
        "v_gender = E.diff('she', 'he')\r\n",
        "\r\n",
        "sp = sorted([(E.v(w).dot(v_gender), w) for w in adjective_in_words])\r\n",
        "size_train = 100\r\n",
        "size_test = 400\r\n",
        "size = size_train + size_test\r\n",
        "\r\n",
        "males = sp[:size]\r\n",
        "females = sp[-size:]\r\n",
        "\r\n",
        "shuffle(females)\r\n",
        "shuffle(males)\r\n",
        "\r\n",
        "X_train = [E.vecs[E.index[w[1]]] for w in males[:size_train] + females[:size_train]]\r\n",
        "Y_train = [1] * size_train + [0] * size_train\r\n",
        "\r\n",
        "X_test = [E.vecs[E.index[w[1]]] for w in males[size_train:] + females[size_train:]]\r\n",
        "Y_test = [1] * size_test + [0] * size_test\r\n",
        "\r\n",
        "clf = svm.SVC()\r\n",
        "clf.fit(X_train, Y_train)\r\n",
        "preds = clf.predict(X_test)\r\n",
        "accuracy = [1 if y == z else 0 for y, z in zip(preds, Y_test)]\r\n",
        "print('before debiasing accuracy:', float(sum(accuracy)) / len(accuracy))\r\n",
        "\r\n",
        "\r\n",
        "with open('./data/definitional_pairs.json', \"r\") as f:\r\n",
        "    defs = json.load(f)\r\n",
        "with open('./data/equalize_pairs.json', \"r\") as f:\r\n",
        "    equalize_pairs = json.load(f)\r\n",
        "with open('./data/gender_specific_seed.json', \"r\") as f:\r\n",
        "    gender_specific_words = json.load(f)\r\n",
        "\r\n",
        "debias(E, gender_specific_words, defs, equalize_pairs)\r\n",
        "\r\n",
        "sp_debiased = sorted([(E.v(w).dot(v_gender), w) for w in adjective_in_words])\r\n",
        "\r\n",
        "size_train = 100\r\n",
        "size_test = 400\r\n",
        "size = size_train + size_test\r\n",
        "\r\n",
        "males = sp_debiased[:size]\r\n",
        "females = sp_debiased[-size:]\r\n",
        "\r\n",
        "shuffle(females)\r\n",
        "shuffle(males)\r\n",
        "\r\n",
        "X_train = [E.vecs[E.index[w[1]]] for w in males[:size_train] + females[:size_train]]\r\n",
        "Y_train = [1] * size_train + [0] * size_train\r\n",
        "X_test = [E.vecs[E.index[w[1]]] for w in males[size_train:] + females[size_train:]]\r\n",
        "Y_test = [1] * size_test + [0] * size_test\r\n",
        "\r\n",
        "clf = svm.SVC()\r\n",
        "clf.fit(X_train, Y_train)\r\n",
        "preds = clf.predict(X_test)\r\n",
        "accuracy = [1 if y == z else 0 for y, z in zip(preds, Y_test)]\r\n",
        "print('after debiasing accuracy:', float(sum(accuracy)) / len(accuracy))\r\n"
      ],
      "execution_count": 25,
      "outputs": [
        {
          "output_type": "stream",
          "text": [
            "*** Reading data from ./embeddings/w2v_gnews_small.txt\n",
            "(26423, 300)\n",
            "26423 words of dimension 300 : in, for, that, is, ..., Jay, Leroy, Brad, Jermaine\n",
            "accuracy: 0.76875\n",
            "26423 words of dimension 300 : in, for, that, is, ..., Jay, Leroy, Brad, Jermaine\n",
            "{('COUNCILMAN', 'COUNCILWOMAN'), ('twin_brother', 'twin_sister'), ('FELLA', 'GRANNY'), ('males', 'females'), ('fella', 'granny'), ('Councilman', 'Councilwoman'), ('boys', 'girls'), ('he', 'she'), ('gelding', 'mare'), ('Brother', 'Sister'), ('CONGRESSMAN', 'CONGRESSWOMAN'), ('FATHERHOOD', 'MOTHERHOOD'), ('Gentlemen', 'Ladies'), ('kings', 'queens'), ('Fatherhood', 'Motherhood'), ('GRANDPA', 'GRANDMA'), ('UNCLE', 'AUNT'), ('Testosterone', 'Estrogen'), ('Grandsons', 'Granddaughters'), ('GELDING', 'MARE'), ('MAN', 'WOMAN'), ('BOYS', 'GIRLS'), ('BROTHERS', 'SISTERS'), ('Businessman', 'Businesswoman'), ('Fraternity', 'Sorority'), ('Nephew', 'Niece'), ('Men', 'Women'), ('King', 'Queen'), ('Man', 'Woman'), ('fraternity', 'sorority'), ('Kings', 'Queens'), ('KING', 'QUEEN'), ('CATHOLIC_PRIEST', 'NUN'), ('Boy', 'Girl'), ('ex_girlfriend', 'ex_boyfriend'), ('dad', 'mom'), ('grandsons', 'granddaughters'), ('catholic_priest', 'nun'), ('Father', 'Mother'), ('nephew', 'niece'), ('Twin_Brother', 'Twin_Sister'), ('Brothers', 'Sisters'), ('monastery', 'convent'), ('gentlemen', 'ladies'), ('MALE', 'FEMALE'), ('councilman', 'councilwoman'), ('grandson', 'granddaughter'), ('HE', 'SHE'), ('CHAIRMAN', 'CHAIRWOMAN'), ('Gentleman', 'Lady'), ('Spokesman', 'Spokeswoman'), ('king', 'queen'), ('BUSINESSMAN', 'BUSINESSWOMAN'), ('Fathers', 'Mothers'), ('Males', 'Females'), ('SONS', 'DAUGHTERS'), ('Prince', 'Princess'), ('His', 'Her'), ('GRANDSON', 'GRANDDAUGHTER'), ('Boys', 'Girls'), ('DUDES', 'GALS'), ('Grandson', 'Granddaughter'), ('SPOKESMAN', 'SPOKESWOMAN'), ('GENTLEMEN', 'LADIES'), ('father', 'mother'), ('Son', 'Daughter'), ('Gelding', 'Mare'), ('brothers', 'sisters'), ('fatherhood', 'motherhood'), ('businessman', 'businesswoman'), ('Himself', 'Herself'), ('MONASTERY', 'CONVENT'), ('DAD', 'MOM'), ('DADS', 'MOMS'), ('his', 'her'), ('Wives', 'Husbands'), ('FRATERNITY', 'SORORITY'), ('chairman', 'chairwoman'), ('grandpa', 'grandma'), ('son', 'daughter'), ('Male', 'Female'), ('dads', 'moms'), ('colt', 'filly'), ('Congressman', 'Congresswoman'), ('Catholic_Priest', 'Nun'), ('men', 'women'), ('testosterone', 'estrogen'), ('KINGS', 'QUEENS'), ('Ex_Girlfriend', 'Ex_Boyfriend'), ('FATHERS', 'MOTHERS'), ('Grandpa', 'Grandma'), ('Sons', 'Daughters'), ('SCHOOLBOY', 'SCHOOLGIRL'), ('Fella', 'Granny'), ('WIVES', 'HUSBANDS'), ('prince', 'princess'), ('sons', 'daughters'), ('SON', 'DAUGHTER'), ('Dad', 'Mom'), ('Monastery', 'Convent'), ('MEN', 'WOMEN'), ('HIMSELF', 'HERSELF'), ('boy', 'girl'), ('congressman', 'congresswoman'), ('Chairman', 'Chairwoman'), ('GRANDSONS', 'GRANDDAUGHTERS'), ('BOY', 'GIRL'), ('PROSTATE_CANCER', 'OVARIAN_CANCER'), ('HIS', 'HER'), ('TESTOSTERONE', 'ESTROGEN'), ('wives', 'husbands'), ('grandfather', 'grandmother'), ('dudes', 'gals'), ('GRANDFATHER', 'GRANDMOTHER'), ('man', 'woman'), ('NEPHEW', 'NIECE'), ('COLT', 'FILLY'), ('Uncle', 'Aunt'), ('himself', 'herself'), ('male', 'female'), ('TWIN_BROTHER', 'TWIN_SISTER'), ('PRINCE', 'PRINCESS'), ('GENTLEMAN', 'LADY'), ('Dads', 'Moms'), ('gentleman', 'lady'), ('MALES', 'FEMALES'), ('FATHER', 'MOTHER'), ('BROTHER', 'SISTER'), ('He', 'She'), ('Dudes', 'Gals'), ('Grandfather', 'Grandmother'), ('Prostate_Cancer', 'Ovarian_Cancer'), ('prostate_cancer', 'ovarian_cancer'), ('uncle', 'aunt'), ('schoolboy', 'schoolgirl'), ('spokesman', 'spokeswoman'), ('brother', 'sister'), ('fathers', 'mothers'), ('Colt', 'Filly'), ('Schoolboy', 'Schoolgirl'), ('EX_GIRLFRIEND', 'EX_BOYFRIEND')}\n",
            "26423 words of dimension 300 : in, for, that, is, ..., Jay, Leroy, Brad, Jermaine\n",
            "after accuracy: 0.7525\n"
          ],
          "name": "stdout"
        }
      ]
    }
  ]
}